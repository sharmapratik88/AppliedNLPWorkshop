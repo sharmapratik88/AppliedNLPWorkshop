{
  "nbformat": 4,
  "nbformat_minor": 0,
  "metadata": {
    "colab": {
      "name": "3a_TopicModeling",
      "provenance": [],
      "collapsed_sections": [],
      "toc_visible": true
    },
    "kernelspec": {
      "name": "python3",
      "display_name": "Python 3"
    }
  },
  "cells": [
    {
      "cell_type": "markdown",
      "metadata": {
        "id": "S0kNDa7gMM10",
        "colab_type": "text"
      },
      "source": [
        "### LDA Model for Topic Modeling"
      ]
    },
    {
      "cell_type": "code",
      "metadata": {
        "id": "9bm1t4EIIGmy",
        "colab_type": "code",
        "outputId": "6ee54aee-4cfa-47f1-9e42-2edc37148161",
        "colab": {
          "base_uri": "https://localhost:8080/",
          "height": 35
        }
      },
      "source": [
        "from google.colab import drive\n",
        "drive.mount('/content/drive')"
      ],
      "execution_count": 0,
      "outputs": [
        {
          "output_type": "stream",
          "text": [
            "Drive already mounted at /content/drive; to attempt to forcibly remount, call drive.mount(\"/content/drive\", force_remount=True).\n"
          ],
          "name": "stdout"
        }
      ]
    },
    {
      "cell_type": "code",
      "metadata": {
        "id": "Kz2uPpefIPWy",
        "colab_type": "code",
        "outputId": "151a3b9c-a30b-4694-c345-b97b8e9e0367",
        "colab": {
          "base_uri": "https://localhost:8080/",
          "height": 961
        }
      },
      "source": [
        "import numpy as np, pandas as pd, nltk\n",
        "nltk.download('stopwords')\n",
        "pd.options.mode.chained_assignment = None\n",
        "\n",
        "en_stop = set(nltk.corpus.stopwords.words('english'))\n",
        "\n",
        "imUsingColab = True\n",
        "\n",
        "if imUsingColab:\n",
        "    !pip install gensim\n",
        "    !pip install pyLDAvis\n",
        "    !pip install vega\n",
        "    !pip install altair\n",
        "\n",
        "from gensim import corpora\n",
        "from gensim.models.ldamodel import LdaModel\n",
        "\n",
        "import pyLDAvis.gensim"
      ],
      "execution_count": 0,
      "outputs": [
        {
          "output_type": "stream",
          "text": [
            "[nltk_data] Downloading package stopwords to /root/nltk_data...\n",
            "[nltk_data]   Package stopwords is already up-to-date!\n",
            "Requirement already satisfied: gensim in /usr/local/lib/python3.6/dist-packages (3.6.0)\n",
            "Requirement already satisfied: six>=1.5.0 in /usr/local/lib/python3.6/dist-packages (from gensim) (1.12.0)\n",
            "Requirement already satisfied: numpy>=1.11.3 in /usr/local/lib/python3.6/dist-packages (from gensim) (1.17.4)\n",
            "Requirement already satisfied: smart-open>=1.2.1 in /usr/local/lib/python3.6/dist-packages (from gensim) (1.9.0)\n",
            "Requirement already satisfied: scipy>=0.18.1 in /usr/local/lib/python3.6/dist-packages (from gensim) (1.3.2)\n",
            "Requirement already satisfied: boto>=2.32 in /usr/local/lib/python3.6/dist-packages (from smart-open>=1.2.1->gensim) (2.49.0)\n",
            "Requirement already satisfied: requests in /usr/local/lib/python3.6/dist-packages (from smart-open>=1.2.1->gensim) (2.21.0)\n",
            "Requirement already satisfied: boto3 in /usr/local/lib/python3.6/dist-packages (from smart-open>=1.2.1->gensim) (1.10.18)\n",
            "Requirement already satisfied: idna<2.9,>=2.5 in /usr/local/lib/python3.6/dist-packages (from requests->smart-open>=1.2.1->gensim) (2.8)\n",
            "Requirement already satisfied: certifi>=2017.4.17 in /usr/local/lib/python3.6/dist-packages (from requests->smart-open>=1.2.1->gensim) (2019.9.11)\n",
            "Requirement already satisfied: urllib3<1.25,>=1.21.1 in /usr/local/lib/python3.6/dist-packages (from requests->smart-open>=1.2.1->gensim) (1.24.3)\n",
            "Requirement already satisfied: chardet<3.1.0,>=3.0.2 in /usr/local/lib/python3.6/dist-packages (from requests->smart-open>=1.2.1->gensim) (3.0.4)\n",
            "Requirement already satisfied: s3transfer<0.3.0,>=0.2.0 in /usr/local/lib/python3.6/dist-packages (from boto3->smart-open>=1.2.1->gensim) (0.2.1)\n",
            "Requirement already satisfied: botocore<1.14.0,>=1.13.18 in /usr/local/lib/python3.6/dist-packages (from boto3->smart-open>=1.2.1->gensim) (1.13.18)\n",
            "Requirement already satisfied: jmespath<1.0.0,>=0.7.1 in /usr/local/lib/python3.6/dist-packages (from boto3->smart-open>=1.2.1->gensim) (0.9.4)\n",
            "Requirement already satisfied: docutils<0.16,>=0.10 in /usr/local/lib/python3.6/dist-packages (from botocore<1.14.0,>=1.13.18->boto3->smart-open>=1.2.1->gensim) (0.15.2)\n",
            "Requirement already satisfied: python-dateutil<2.8.1,>=2.1; python_version >= \"2.7\" in /usr/local/lib/python3.6/dist-packages (from botocore<1.14.0,>=1.13.18->boto3->smart-open>=1.2.1->gensim) (2.6.1)\n",
            "Requirement already satisfied: pyLDAvis in /usr/local/lib/python3.6/dist-packages (2.1.2)\n",
            "Requirement already satisfied: wheel>=0.23.0 in /usr/local/lib/python3.6/dist-packages (from pyLDAvis) (0.33.6)\n",
            "Requirement already satisfied: scipy>=0.18.0 in /usr/local/lib/python3.6/dist-packages (from pyLDAvis) (1.3.2)\n",
            "Requirement already satisfied: numexpr in /usr/local/lib/python3.6/dist-packages (from pyLDAvis) (2.7.0)\n",
            "Requirement already satisfied: jinja2>=2.7.2 in /usr/local/lib/python3.6/dist-packages (from pyLDAvis) (2.10.3)\n",
            "Requirement already satisfied: numpy>=1.9.2 in /usr/local/lib/python3.6/dist-packages (from pyLDAvis) (1.17.4)\n",
            "Requirement already satisfied: pytest in /usr/local/lib/python3.6/dist-packages (from pyLDAvis) (3.6.4)\n",
            "Requirement already satisfied: future in /usr/local/lib/python3.6/dist-packages (from pyLDAvis) (0.16.0)\n",
            "Requirement already satisfied: pandas>=0.17.0 in /usr/local/lib/python3.6/dist-packages (from pyLDAvis) (0.25.3)\n",
            "Requirement already satisfied: funcy in /usr/local/lib/python3.6/dist-packages (from pyLDAvis) (1.13)\n",
            "Requirement already satisfied: joblib>=0.8.4 in /usr/local/lib/python3.6/dist-packages (from pyLDAvis) (0.14.0)\n",
            "Requirement already satisfied: MarkupSafe>=0.23 in /usr/local/lib/python3.6/dist-packages (from jinja2>=2.7.2->pyLDAvis) (1.1.1)\n",
            "Requirement already satisfied: attrs>=17.4.0 in /usr/local/lib/python3.6/dist-packages (from pytest->pyLDAvis) (19.3.0)\n",
            "Requirement already satisfied: six>=1.10.0 in /usr/local/lib/python3.6/dist-packages (from pytest->pyLDAvis) (1.12.0)\n",
            "Requirement already satisfied: py>=1.5.0 in /usr/local/lib/python3.6/dist-packages (from pytest->pyLDAvis) (1.8.0)\n",
            "Requirement already satisfied: pluggy<0.8,>=0.5 in /usr/local/lib/python3.6/dist-packages (from pytest->pyLDAvis) (0.7.1)\n",
            "Requirement already satisfied: setuptools in /usr/local/lib/python3.6/dist-packages (from pytest->pyLDAvis) (41.6.0)\n",
            "Requirement already satisfied: more-itertools>=4.0.0 in /usr/local/lib/python3.6/dist-packages (from pytest->pyLDAvis) (7.2.0)\n",
            "Requirement already satisfied: atomicwrites>=1.0 in /usr/local/lib/python3.6/dist-packages (from pytest->pyLDAvis) (1.3.0)\n",
            "Requirement already satisfied: python-dateutil>=2.6.1 in /usr/local/lib/python3.6/dist-packages (from pandas>=0.17.0->pyLDAvis) (2.6.1)\n",
            "Requirement already satisfied: pytz>=2017.2 in /usr/local/lib/python3.6/dist-packages (from pandas>=0.17.0->pyLDAvis) (2018.9)\n",
            "Requirement already satisfied: vega in /usr/local/lib/python3.6/dist-packages (2.6.0)\n",
            "Requirement already satisfied: altair in /usr/local/lib/python3.6/dist-packages (3.2.0)\n",
            "Requirement already satisfied: entrypoints in /usr/local/lib/python3.6/dist-packages (from altair) (0.3)\n",
            "Requirement already satisfied: numpy in /usr/local/lib/python3.6/dist-packages (from altair) (1.17.4)\n",
            "Requirement already satisfied: six in /usr/local/lib/python3.6/dist-packages (from altair) (1.12.0)\n",
            "Requirement already satisfied: toolz in /usr/local/lib/python3.6/dist-packages (from altair) (0.10.0)\n",
            "Requirement already satisfied: jinja2 in /usr/local/lib/python3.6/dist-packages (from altair) (2.10.3)\n",
            "Requirement already satisfied: jsonschema in /usr/local/lib/python3.6/dist-packages (from altair) (2.6.0)\n",
            "Requirement already satisfied: pandas in /usr/local/lib/python3.6/dist-packages (from altair) (0.25.3)\n",
            "Requirement already satisfied: MarkupSafe>=0.23 in /usr/local/lib/python3.6/dist-packages (from jinja2->altair) (1.1.1)\n",
            "Requirement already satisfied: python-dateutil>=2.6.1 in /usr/local/lib/python3.6/dist-packages (from pandas->altair) (2.6.1)\n",
            "Requirement already satisfied: pytz>=2017.2 in /usr/local/lib/python3.6/dist-packages (from pandas->altair) (2018.9)\n"
          ],
          "name": "stdout"
        }
      ]
    },
    {
      "cell_type": "code",
      "metadata": {
        "id": "BJzSOCV-qGux",
        "colab_type": "code",
        "outputId": "acc030e1-8a9f-4fc6-e6b7-e965e75c7936",
        "colab": {
          "base_uri": "https://localhost:8080/",
          "height": 552
        }
      },
      "source": [
        "# dataset: https://www.kaggle.com/datafiniti/hotel-reviews#Datafiniti_Hotel_Reviews.csv\n",
        "data_path = \"/content/drive/My Drive/Datahack NLP Workshop/HotelReviews/\"\n",
        "df = pd.read_csv(data_path + \"Datafiniti_Hotel_Reviews.csv\")\n",
        "df.head()"
      ],
      "execution_count": 0,
      "outputs": [
        {
          "output_type": "execute_result",
          "data": {
            "text/html": [
              "<div>\n",
              "<style scoped>\n",
              "    .dataframe tbody tr th:only-of-type {\n",
              "        vertical-align: middle;\n",
              "    }\n",
              "\n",
              "    .dataframe tbody tr th {\n",
              "        vertical-align: top;\n",
              "    }\n",
              "\n",
              "    .dataframe thead th {\n",
              "        text-align: right;\n",
              "    }\n",
              "</style>\n",
              "<table border=\"1\" class=\"dataframe\">\n",
              "  <thead>\n",
              "    <tr style=\"text-align: right;\">\n",
              "      <th></th>\n",
              "      <th>id</th>\n",
              "      <th>dateAdded</th>\n",
              "      <th>dateUpdated</th>\n",
              "      <th>address</th>\n",
              "      <th>categories</th>\n",
              "      <th>primaryCategories</th>\n",
              "      <th>city</th>\n",
              "      <th>country</th>\n",
              "      <th>keys</th>\n",
              "      <th>latitude</th>\n",
              "      <th>longitude</th>\n",
              "      <th>name</th>\n",
              "      <th>postalCode</th>\n",
              "      <th>province</th>\n",
              "      <th>reviews.date</th>\n",
              "      <th>reviews.dateSeen</th>\n",
              "      <th>reviews.rating</th>\n",
              "      <th>reviews.sourceURLs</th>\n",
              "      <th>reviews.text</th>\n",
              "      <th>reviews.title</th>\n",
              "      <th>reviews.userCity</th>\n",
              "      <th>reviews.userProvince</th>\n",
              "      <th>reviews.username</th>\n",
              "      <th>sourceURLs</th>\n",
              "      <th>websites</th>\n",
              "    </tr>\n",
              "  </thead>\n",
              "  <tbody>\n",
              "    <tr>\n",
              "      <th>0</th>\n",
              "      <td>AVwc252WIN2L1WUfpqLP</td>\n",
              "      <td>2016-10-30T21:42:42Z</td>\n",
              "      <td>2018-09-10T21:06:27Z</td>\n",
              "      <td>5921 Valencia Cir</td>\n",
              "      <td>Hotels,Hotels and motels,Hotel and motel reser...</td>\n",
              "      <td>Accommodation &amp; Food Services</td>\n",
              "      <td>Rancho Santa Fe</td>\n",
              "      <td>US</td>\n",
              "      <td>us/ca/ranchosantafe/5921valenciacir/359754519</td>\n",
              "      <td>32.990959</td>\n",
              "      <td>-117.186136</td>\n",
              "      <td>Rancho Valencia Resort Spa</td>\n",
              "      <td>92067</td>\n",
              "      <td>CA</td>\n",
              "      <td>2013-11-14T00:00:00Z</td>\n",
              "      <td>2016-08-03T00:00:00Z,2016-07-26T00:00:00Z,2016...</td>\n",
              "      <td>5.0</td>\n",
              "      <td>https://www.hotels.com/hotel/125419/reviews%20/</td>\n",
              "      <td>Our experience at Rancho Valencia was absolute...</td>\n",
              "      <td>Best romantic vacation ever!!!!</td>\n",
              "      <td>NaN</td>\n",
              "      <td>NaN</td>\n",
              "      <td>Paula</td>\n",
              "      <td>http://www.hotels.com/ho125419/%25252525253Flo...</td>\n",
              "      <td>http://www.ranchovalencia.com</td>\n",
              "    </tr>\n",
              "    <tr>\n",
              "      <th>1</th>\n",
              "      <td>AVwc252WIN2L1WUfpqLP</td>\n",
              "      <td>2016-10-30T21:42:42Z</td>\n",
              "      <td>2018-09-10T21:06:27Z</td>\n",
              "      <td>5921 Valencia Cir</td>\n",
              "      <td>Hotels,Hotels and motels,Hotel and motel reser...</td>\n",
              "      <td>Accommodation &amp; Food Services</td>\n",
              "      <td>Rancho Santa Fe</td>\n",
              "      <td>US</td>\n",
              "      <td>us/ca/ranchosantafe/5921valenciacir/359754519</td>\n",
              "      <td>32.990959</td>\n",
              "      <td>-117.186136</td>\n",
              "      <td>Rancho Valencia Resort Spa</td>\n",
              "      <td>92067</td>\n",
              "      <td>CA</td>\n",
              "      <td>2014-07-06T00:00:00Z</td>\n",
              "      <td>2016-08-02T00:00:00Z,2016-08-26T00:00:00Z,2016...</td>\n",
              "      <td>5.0</td>\n",
              "      <td>https://www.hotels.com/hotel/125419/reviews%20/</td>\n",
              "      <td>Amazing place. Everyone was extremely warm and...</td>\n",
              "      <td>Sweet sweet serenity</td>\n",
              "      <td>NaN</td>\n",
              "      <td>NaN</td>\n",
              "      <td>D</td>\n",
              "      <td>http://www.hotels.com/ho125419/%25252525253Flo...</td>\n",
              "      <td>http://www.ranchovalencia.com</td>\n",
              "    </tr>\n",
              "    <tr>\n",
              "      <th>2</th>\n",
              "      <td>AVwc252WIN2L1WUfpqLP</td>\n",
              "      <td>2016-10-30T21:42:42Z</td>\n",
              "      <td>2018-09-10T21:06:27Z</td>\n",
              "      <td>5921 Valencia Cir</td>\n",
              "      <td>Hotels,Hotels and motels,Hotel and motel reser...</td>\n",
              "      <td>Accommodation &amp; Food Services</td>\n",
              "      <td>Rancho Santa Fe</td>\n",
              "      <td>US</td>\n",
              "      <td>us/ca/ranchosantafe/5921valenciacir/359754519</td>\n",
              "      <td>32.990959</td>\n",
              "      <td>-117.186136</td>\n",
              "      <td>Rancho Valencia Resort Spa</td>\n",
              "      <td>92067</td>\n",
              "      <td>CA</td>\n",
              "      <td>2015-01-02T00:00:00Z</td>\n",
              "      <td>2016-11-15T00:00:00Z,2016-08-23T00:00:00Z,2016...</td>\n",
              "      <td>5.0</td>\n",
              "      <td>https://www.hotels.com/hotel/125419/reviews%20/</td>\n",
              "      <td>We booked a 3 night stay at Rancho Valencia to...</td>\n",
              "      <td>Amazing Property and Experience</td>\n",
              "      <td>NaN</td>\n",
              "      <td>NaN</td>\n",
              "      <td>Ron</td>\n",
              "      <td>http://www.hotels.com/ho125419/%25252525253Flo...</td>\n",
              "      <td>http://www.ranchovalencia.com</td>\n",
              "    </tr>\n",
              "    <tr>\n",
              "      <th>3</th>\n",
              "      <td>AVwdOclqIN2L1WUfti38</td>\n",
              "      <td>2015-11-28T19:19:35Z</td>\n",
              "      <td>2018-09-10T21:06:16Z</td>\n",
              "      <td>7520 Teague Rd</td>\n",
              "      <td>Hotels,Hotels and motels,Travel agencies and b...</td>\n",
              "      <td>Accommodation &amp; Food Services</td>\n",
              "      <td>Hanover</td>\n",
              "      <td>US</td>\n",
              "      <td>us/md/hanover/7520teaguerd/-2043779672</td>\n",
              "      <td>39.155929</td>\n",
              "      <td>-76.716341</td>\n",
              "      <td>Aloft Arundel Mills</td>\n",
              "      <td>21076</td>\n",
              "      <td>MD</td>\n",
              "      <td>2016-05-15T00:00:00Z</td>\n",
              "      <td>2016-05-21T00:00:00Z,2016-07-31T00:00:00Z</td>\n",
              "      <td>2.0</td>\n",
              "      <td>https://www.tripadvisor.com/Hotel_Review-g4118...</td>\n",
              "      <td>Currently in bed writing this for the past hr ...</td>\n",
              "      <td>Never again...beware, if you want sleep.</td>\n",
              "      <td>Richmond</td>\n",
              "      <td>VA</td>\n",
              "      <td>jaeem2016</td>\n",
              "      <td>http://www.yellowbook.com/profile/aloft-arunde...</td>\n",
              "      <td>http://www.starwoodhotels.com/alofthotels/prop...</td>\n",
              "    </tr>\n",
              "    <tr>\n",
              "      <th>4</th>\n",
              "      <td>AVwdOclqIN2L1WUfti38</td>\n",
              "      <td>2015-11-28T19:19:35Z</td>\n",
              "      <td>2018-09-10T21:06:16Z</td>\n",
              "      <td>7520 Teague Rd</td>\n",
              "      <td>Hotels,Hotels and motels,Travel agencies and b...</td>\n",
              "      <td>Accommodation &amp; Food Services</td>\n",
              "      <td>Hanover</td>\n",
              "      <td>US</td>\n",
              "      <td>us/md/hanover/7520teaguerd/-2043779672</td>\n",
              "      <td>39.155929</td>\n",
              "      <td>-76.716341</td>\n",
              "      <td>Aloft Arundel Mills</td>\n",
              "      <td>21076</td>\n",
              "      <td>MD</td>\n",
              "      <td>2016-07-09T00:00:00Z</td>\n",
              "      <td>2016-07-31T00:00:00Z</td>\n",
              "      <td>5.0</td>\n",
              "      <td>https://www.tripadvisor.com/Hotel_Review-g4118...</td>\n",
              "      <td>I live in Md and the Aloft is my Home away fro...</td>\n",
              "      <td>ALWAYS GREAT STAY...</td>\n",
              "      <td>Laurel</td>\n",
              "      <td>MD</td>\n",
              "      <td>MamaNiaOne</td>\n",
              "      <td>http://www.yellowbook.com/profile/aloft-arunde...</td>\n",
              "      <td>http://www.starwoodhotels.com/alofthotels/prop...</td>\n",
              "    </tr>\n",
              "  </tbody>\n",
              "</table>\n",
              "</div>"
            ],
            "text/plain": [
              "                     id  ...                                           websites\n",
              "0  AVwc252WIN2L1WUfpqLP  ...                      http://www.ranchovalencia.com\n",
              "1  AVwc252WIN2L1WUfpqLP  ...                      http://www.ranchovalencia.com\n",
              "2  AVwc252WIN2L1WUfpqLP  ...                      http://www.ranchovalencia.com\n",
              "3  AVwdOclqIN2L1WUfti38  ...  http://www.starwoodhotels.com/alofthotels/prop...\n",
              "4  AVwdOclqIN2L1WUfti38  ...  http://www.starwoodhotels.com/alofthotels/prop...\n",
              "\n",
              "[5 rows x 25 columns]"
            ]
          },
          "metadata": {
            "tags": []
          },
          "execution_count": 3
        }
      ]
    },
    {
      "cell_type": "markdown",
      "metadata": {
        "id": "EEbF37tOMfjO",
        "colab_type": "text"
      },
      "source": [
        "### Data Preparation"
      ]
    },
    {
      "cell_type": "code",
      "metadata": {
        "id": "gbjY0yBFIel5",
        "colab_type": "code",
        "colab": {}
      },
      "source": [
        "def prepare_text_for_lda(text):\n",
        "    tokens = str(text).split()\n",
        "    tokens = [token for token in tokens if len(token) > 4 if token not in en_stop]\n",
        "    return tokens"
      ],
      "execution_count": 0,
      "outputs": []
    },
    {
      "cell_type": "code",
      "metadata": {
        "id": "P_7j0t9ZI9G2",
        "colab_type": "code",
        "colab": {}
      },
      "source": [
        "text_data = []\n",
        "for line in df[\"reviews.text\"].values:\n",
        "    tokens = prepare_text_for_lda(line)\n",
        "    text_data.append(tokens)"
      ],
      "execution_count": 0,
      "outputs": []
    },
    {
      "cell_type": "markdown",
      "metadata": {
        "id": "PVKuJM6qNCgn",
        "colab_type": "text"
      },
      "source": [
        "### LDA Model"
      ]
    },
    {
      "cell_type": "code",
      "metadata": {
        "id": "ItLKp6C0KjSo",
        "colab_type": "code",
        "colab": {}
      },
      "source": [
        "dictionary = corpora.Dictionary(text_data)\n",
        "corpus = [dictionary.doc2bow(text) for text in text_data]"
      ],
      "execution_count": 0,
      "outputs": []
    },
    {
      "cell_type": "code",
      "metadata": {
        "id": "EEDHPgSaoImZ",
        "colab_type": "code",
        "outputId": "e8ecce2b-567c-4391-e560-1d0cc9888599",
        "colab": {
          "base_uri": "https://localhost:8080/",
          "height": 35
        }
      },
      "source": [
        "try:\n",
        "    import altair as alt\n",
        "    if imUsingColab:\n",
        "        alt.renderers.enable('colab')\n",
        "    else:\n",
        "        alt.renderers.enable('notebook')    \n",
        "    imUsingAltair = True\n",
        "    print('Altair successfully loaded.')\n",
        "\n",
        "except ModuleNotFoundError:\n",
        "    imUsingAltair = False\n",
        "    print('Altair loading failed. Will default to matplotlib.')"
      ],
      "execution_count": 0,
      "outputs": [
        {
          "output_type": "stream",
          "text": [
            "Altair successfully loaded.\n"
          ],
          "name": "stdout"
        }
      ]
    },
    {
      "cell_type": "code",
      "metadata": {
        "id": "0A98iBqoKrsU",
        "colab_type": "code",
        "colab": {}
      },
      "source": [
        "import gensim\n",
        "import warnings; warnings.filterwarnings('ignore')\n",
        "NUM_TOPICS = 3\n",
        "ldamodel = gensim.models.ldamodel.LdaModel(corpus, num_topics = NUM_TOPICS, id2word=dictionary, passes=10)"
      ],
      "execution_count": 0,
      "outputs": []
    },
    {
      "cell_type": "code",
      "metadata": {
        "id": "0k_6K9PIKyrX",
        "colab_type": "code",
        "outputId": "51ff55f0-2de6-4c12-ca9f-c58d148f895b",
        "colab": {
          "base_uri": "https://localhost:8080/",
          "height": 70
        }
      },
      "source": [
        "topics = ldamodel.print_topics(num_words=8)\n",
        "for topic in topics:\n",
        "    print(topic)"
      ],
      "execution_count": 0,
      "outputs": [
        {
          "output_type": "stream",
          "text": [
            "(0, '0.022*\"hotel\" + 0.017*\"staff\" + 0.014*\"breakfast\" + 0.014*\"clean\" + 0.012*\"great\" + 0.011*\"friendly\" + 0.008*\"location\" + 0.008*\"rooms\"')\n",
            "(1, '0.017*\"hotel\" + 0.009*\"would\" + 0.008*\"front\" + 0.007*\"night\" + 0.006*\"could\" + 0.006*\"room.\" + 0.005*\"check\" + 0.005*\"rooms\"')\n",
            "(2, '0.010*\"hotel\" + 0.010*\"great\" + 0.008*\"staff\" + 0.008*\"stayed\" + 0.006*\"service\" + 0.005*\"place\" + 0.004*\"family\" + 0.004*\"rooms\"')\n"
          ],
          "name": "stdout"
        }
      ]
    },
    {
      "cell_type": "code",
      "metadata": {
        "id": "xxPWtNsm8D3e",
        "colab_type": "code",
        "colab": {}
      },
      "source": [
        "# lda_display = pyLDAvis.gensim.prepare(ldamodel, corpus, dictionary, sort_topics=False)\n",
        "# pyLDAvis.display(lda_display)"
      ],
      "execution_count": 0,
      "outputs": []
    },
    {
      "cell_type": "markdown",
      "metadata": {
        "id": "pf8Om3cfN6vu",
        "colab_type": "text"
      },
      "source": [
        "https://towardsdatascience.com/topic-modelling-in-python-with-nltk-and-gensim-4ef03213cd21"
      ]
    }
  ]
}